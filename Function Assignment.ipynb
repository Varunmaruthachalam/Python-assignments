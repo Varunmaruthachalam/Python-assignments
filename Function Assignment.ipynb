{
 "cells": [
  {
   "cell_type": "code",
   "execution_count": 8,
   "metadata": {},
   "outputs": [],
   "source": [
    "\n",
    "def Subfields():\n",
    "    subfields = [\"MachineLearning\",\n",
    "       \"NeuralNetworks\",\n",
    "       \"Vision\",\n",
    "       \"Robotics\",\n",
    "       \"SpeechProcessing\",\n",
    "       \"Natural Language Processing\"]\n",
    "    print(\"Sub-fields in AI are:\")\n",
    "    for temp in subfields:\n",
    "        print(temp)\n"
   ]
  },
  {
   "cell_type": "code",
   "execution_count": 9,
   "metadata": {},
   "outputs": [
    {
     "name": "stdout",
     "output_type": "stream",
     "text": [
      "Sub-fields in AI are:\n",
      "MachineLearning\n",
      "NeuralNetworks\n",
      "Vision\n",
      "Robotics\n",
      "SpeechProcessing\n",
      "Natural Language Processing\n"
     ]
    }
   ],
   "source": [
    "Subfields()\n"
   ]
  },
  {
   "cell_type": "code",
   "execution_count": null,
   "metadata": {},
   "outputs": [],
   "source": [
    "def OddEven():\n",
    "    num = int(input(\"Enter a number: \"))\n",
    "    if num % 2 == 0:\n",
    "        print(f\"{num} is Even number\")\n",
    "    else:\n",
    "        print(f\"{num} is Odd number\")\n"
   ]
  },
  {
   "cell_type": "code",
   "execution_count": null,
   "metadata": {},
   "outputs": [],
   "source": [
    "OddEven()\n"
   ]
  },
  {
   "cell_type": "code",
   "execution_count": 6,
   "metadata": {},
   "outputs": [],
   "source": [
    "def Eligible():\n",
    "    gender = input(\"Your Gender:\")\n",
    "    age = int(input(\"Your Age:\"))\n",
    "\n",
    "    if (gender==\"male\" and age>=21)or(gender==\"female\" and age>=18):\n",
    "        print(\"ELIGIBLE\")\n",
    "    else:\n",
    "        print(\"NOT ELIGIBLE\")\n",
    "\n",
    "\n",
    "\n"
   ]
  },
  {
   "cell_type": "code",
   "execution_count": 7,
   "metadata": {},
   "outputs": [
    {
     "name": "stdout",
     "output_type": "stream",
     "text": [
      "Your Gender:Male\n",
      "Your Age:20\n",
      "NOT ELIGIBLE\n"
     ]
    }
   ],
   "source": [
    "Eligible()"
   ]
  },
  {
   "cell_type": "code",
   "execution_count": 10,
   "metadata": {},
   "outputs": [],
   "source": [
    "def findpercent():\n",
    "    s1 = int(input(\"Subject1= \"))\n",
    "    s2 = int(input(\"Subject2= \"))\n",
    "    s3 = int(input(\"Subject3= \"))\n",
    "    s4 = int(input(\"Subject4= \"))\n",
    "    s5 = int(input(\"Subject5= \"))\n",
    "\n",
    "    total = s1 + s2 + s3 + s4 + s5\n",
    "    percent = (total / 500) * 100\n",
    "\n",
    "    print(\"Total :\", total)\n",
    "    print(\"Percentage :\", percent)\n",
    "\n",
    "\n"
   ]
  },
  {
   "cell_type": "code",
   "execution_count": 11,
   "metadata": {},
   "outputs": [
    {
     "name": "stdout",
     "output_type": "stream",
     "text": [
      "Subject1= 98\n",
      "Subject2= 87\n",
      "Subject3= 95\n",
      "Subject4= 95\n",
      "Subject5= 93\n",
      "Total : 468\n",
      "Percentage : 93.60000000000001\n"
     ]
    }
   ],
   "source": [
    "findpercent()"
   ]
  },
  {
   "cell_type": "code",
   "execution_count": 12,
   "metadata": {},
   "outputs": [],
   "source": [
    "def triangle():\n",
    "    h = int(input(\"Height:\"))\n",
    "    b = int(input(\"Breadth:\"))\n",
    "    print(\"Area formula: (Height*Breadth)/2\")\n",
    "    area = (h * b) / 2\n",
    "    print(\"Area of Triangle:\", area)\n",
    "    h1 = int(input(\"Height1:\"))\n",
    "    h2 = int(input(\"Height2:\"))\n",
    "    b2 = int(input(\"Breadth:\"))\n",
    "    print(\"Perimeter formula: Height1+Height2+Breadth\")\n",
    "    perimeter = h1 + h2 + b2\n",
    "    print(\"Perimeter of Triangle:\", perimeter)\n",
    "\n"
   ]
  },
  {
   "cell_type": "code",
   "execution_count": 13,
   "metadata": {},
   "outputs": [
    {
     "name": "stdout",
     "output_type": "stream",
     "text": [
      "Height:32\n",
      "Breadth:34\n",
      "Area formula: (Height*Breadth)/2\n",
      "Area of Triangle: 544.0\n",
      "Height1:2\n",
      "Height2:4\n",
      "Breadth:4\n",
      "Perimeter formula: Height1+Height2+Breadth\n",
      "Perimeter of Triangle: 10\n"
     ]
    }
   ],
   "source": [
    "triangle()"
   ]
  },
  {
   "cell_type": "code",
   "execution_count": null,
   "metadata": {},
   "outputs": [],
   "source": []
  }
 ],
 "metadata": {
  "kernelspec": {
   "display_name": "Python 3",
   "language": "python",
   "name": "python3"
  }
 },
 "nbformat": 4,
 "nbformat_minor": 2
}
